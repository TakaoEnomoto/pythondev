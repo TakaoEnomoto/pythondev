{
 "cells": [
  {
   "cell_type": "code",
   "execution_count": null,
   "id": "3762a7ba",
   "metadata": {},
   "outputs": [
    {
     "name": "stdout",
     "output_type": "stream",
     "text": [
      "私の名前は takao です。来年で 46 歳になります。\n"
     ]
    }
   ],
   "source": [
    "def introduce(name, age):\n",
    "    return age + 1\n",
    "\n",
    "name = input(\"名前を入力してください：\")\n",
    "age = int(input(\"現在の年齢を入力してください：\"))\n",
    "\n",
    "age_next_year = introduce(name, age)\n",
    "print(f\"私の名前は {name} です。来年で {age_next_year} 歳になります。\")"
   ]
  },
  {
   "cell_type": "code",
   "execution_count": null,
   "id": "f0a76dcb",
   "metadata": {},
   "outputs": [],
   "source": []
  }
 ],
 "metadata": {
  "kernelspec": {
   "display_name": ".venv",
   "language": "python",
   "name": "python3"
  },
  "language_info": {
   "codemirror_mode": {
    "name": "ipython",
    "version": 3
   },
   "file_extension": ".py",
   "mimetype": "text/x-python",
   "name": "python",
   "nbconvert_exporter": "python",
   "pygments_lexer": "ipython3",
   "version": "3.12.10"
  }
 },
 "nbformat": 4,
 "nbformat_minor": 5
}
