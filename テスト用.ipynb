{
 "cells": [
  {
   "cell_type": "code",
   "execution_count": 3,
   "id": "4300bf33",
   "metadata": {},
   "outputs": [],
   "source": [
    "# NOTE: このファイルはgit update-index --skip-worktreeが設定されています\n",
    "# ローカルでのみ変更可能、リモートには反映されません"
   ]
  },
  {
   "cell_type": "code",
   "execution_count": 1,
   "id": "2cd43a03",
   "metadata": {},
   "outputs": [],
   "source": [
    "a = \"Today is Monday\"\n",
    "a = a.replace(\"Monday\", \"Tuesday\")\n"
   ]
  }
 ],
 "metadata": {
  "kernelspec": {
   "display_name": ".venv",
   "language": "python",
   "name": "python3"
  },
  "language_info": {
   "codemirror_mode": {
    "name": "ipython",
    "version": 3
   },
   "file_extension": ".py",
   "mimetype": "text/x-python",
   "name": "python",
   "nbconvert_exporter": "python",
   "pygments_lexer": "ipython3",
   "version": "3.12.10"
  }
 },
 "nbformat": 4,
 "nbformat_minor": 5
}
