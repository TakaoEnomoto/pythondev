{
 "cells": [
  {
   "cell_type": "code",
   "execution_count": 9,
   "id": "9ea26c9b",
   "metadata": {},
   "outputs": [],
   "source": [
    "class Baseball_Team: #指定のクラスの作成\n",
    "    def __init__(self, name, win, lose, draw): #指定のメンバ変数を持たせる\n",
    "        self.name = name\n",
    "        self.win = win\n",
    "        self.lose = lose\n",
    "        self.draw = draw\n",
    "\n",
    "    def calc_win_rate(self): #勝率を算出するメソッドを定義\n",
    "        self.rate = self.win / (self.win + self.lose)\n",
    "        return self.rate\n",
    "    \n",
    "    def show_team_result(self): #勝敗情報を表示するメソッドを定義\n",
    "        self.calc_win_rate() #勝率を算出するメソッドを実行\n",
    "        print(f\"{self.name:<8}{self.win:>4}{self.lose:>5}{self.draw:>5}{self.rate:>6.3f}\")\n",
    "    \n",
    "    @classmethod\n",
    "    def table_title(self): #表の見出しを表示するメソッドを定義\n",
    "        print(f\"{\"team\":<8}{\"win\":>4}{\"lose\":>5}{\"draw\":>5}{\"rate\":>5}\")"
   ]
  },
  {
   "cell_type": "code",
   "execution_count": 10,
   "id": "6a9fafd3",
   "metadata": {},
   "outputs": [
    {
     "name": "stdout",
     "output_type": "stream",
     "text": [
      "team     win lose draw rate\n",
      "Archers   77   64    2 0.546\n",
      "Meteors   71   69    3 0.507\n",
      "Cheetahs  69   68    6 0.504\n",
      "Sharks    70   70    3 0.500\n",
      "Pythons   68   73    2 0.482\n",
      "Owls      59   82    2 0.418\n"
     ]
    }
   ],
   "source": [
    "Baseball_Team.table_title() #表の見出しを表示\n",
    "\n",
    "#以下、6チーム分のインスタンスを作成\n",
    "archers = Baseball_Team(\"Archers\", 77, 64, 2)\n",
    "meteors = Baseball_Team(\"Meteors\", 71, 69, 3)\n",
    "cheetahs = Baseball_Team(\"Cheetahs\", 69, 68, 6)\n",
    "sharks = Baseball_Team(\"Sharks\", 70, 70, 3)\n",
    "pythons = Baseball_Team(\"Pythons\", 68, 73, 2)\n",
    "owls = Baseball_Team(\"Owls\", 59, 82, 2)\n",
    "\n",
    "#以下、各チームの勝敗情報を表示\n",
    "archers.show_team_result()\n",
    "meteors.show_team_result()\n",
    "cheetahs.show_team_result()\n",
    "sharks.show_team_result()\n",
    "pythons.show_team_result()\n",
    "owls.show_team_result()\n"
   ]
  }
 ],
 "metadata": {
  "kernelspec": {
   "display_name": ".venv",
   "language": "python",
   "name": "python3"
  },
  "language_info": {
   "codemirror_mode": {
    "name": "ipython",
    "version": 3
   },
   "file_extension": ".py",
   "mimetype": "text/x-python",
   "name": "python",
   "nbconvert_exporter": "python",
   "pygments_lexer": "ipython3",
   "version": "3.12.10"
  }
 },
 "nbformat": 4,
 "nbformat_minor": 5
}
