{
 "cells": [
  {
   "cell_type": "markdown",
   "id": "841b99f2",
   "metadata": {},
   "source": [
    "# リモートレポジトリ同期確認　その2\n",
    "# 見出し1\n",
    "## 見出し2\n",
    "### 見出し3\n",
    "\n",
    "# 強調\n",
    "**太字**　__太字__\n",
    "*斜体*　_斜体_\n",
    "***太字かつ斜体***"
   ]
  },
  {
   "cell_type": "code",
   "execution_count": 1,
   "id": "54bc86b8",
   "metadata": {},
   "outputs": [
    {
     "name": "stdout",
     "output_type": "stream",
     "text": [
      "Hello! World!\n"
     ]
    }
   ],
   "source": [
    "print(\"Hello! World!\")"
   ]
  },
  {
   "cell_type": "markdown",
   "id": "6070b9a5",
   "metadata": {},
   "source": [
    "# リスト\n",
    "## 1. 箇条書きリスト\n",
    "\n",
    "- 項目1\n",
    "- 項目2\n",
    "　- サブ項目\n",
    "\n",
    "## 2. 番号付きリスト\n",
    "1. 項目1\n",
    "2. 項目2\n",
    "\n",
    "\n",
    "#　水平線\n",
    "\n",
    "---\n",
    "***\n",
    "___\n"
   ]
  },
  {
   "cell_type": "markdown",
   "id": "b7fbc06f",
   "metadata": {},
   "source": [
    "# テーブル\n",
    "| 見出し1　| 見出し2　|\n",
    "| ------- | ------- |\n",
    "| データ1 | データ2 |\n",
    "| データ3 | データ4 |　"
   ]
  },
  {
   "cell_type": "code",
   "execution_count": 2,
   "id": "8bba3b5c",
   "metadata": {},
   "outputs": [
    {
     "name": "stdout",
     "output_type": "stream",
     "text": [
      "Hello! World!\n",
      "こんにちわ！　世界！\n"
     ]
    }
   ],
   "source": [
    "print(\"Hello! World!\")\n",
    "print(\"こんにちわ！　世界！\")"
   ]
  }
 ],
 "metadata": {
  "kernelspec": {
   "display_name": ".venv (3.12.10)",
   "language": "python",
   "name": "python3"
  },
  "language_info": {
   "codemirror_mode": {
    "name": "ipython",
    "version": 3
   },
   "file_extension": ".py",
   "mimetype": "text/x-python",
   "name": "python",
   "nbconvert_exporter": "python",
   "pygments_lexer": "ipython3",
   "version": "3.12.10"
  }
 },
 "nbformat": 4,
 "nbformat_minor": 5
}
