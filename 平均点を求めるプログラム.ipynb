{
 "cells": [
  {
   "cell_type": "code",
   "execution_count": 1,
   "id": "042fb239",
   "metadata": {},
   "outputs": [
    {
     "name": "stdout",
     "output_type": "stream",
     "text": [
      "3人のテストの平均点は21.7点です\n"
     ]
    }
   ],
   "source": [
    "i = 0\n",
    "j = 0\n",
    "\n",
    "while True:\n",
    "    score = int(input(\"点数を入力してください：\"))\n",
    "    i += 1\n",
    "    j += score\n",
    "    \n",
    "   \n",
    "    if score == -1:\n",
    "        print(f\"{i-1}人のテストの平均点は{round((j+1)/(i-1), 1)}点です\")\n",
    "        break\n",
    "\n"
   ]
  }
 ],
 "metadata": {
  "kernelspec": {
   "display_name": ".venv",
   "language": "python",
   "name": "python3"
  },
  "language_info": {
   "codemirror_mode": {
    "name": "ipython",
    "version": 3
   },
   "file_extension": ".py",
   "mimetype": "text/x-python",
   "name": "python",
   "nbconvert_exporter": "python",
   "pygments_lexer": "ipython3",
   "version": "3.12.10"
  }
 },
 "nbformat": 4,
 "nbformat_minor": 5
}
