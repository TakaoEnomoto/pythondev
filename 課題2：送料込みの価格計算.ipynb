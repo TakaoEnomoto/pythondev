{
 "cells": [
  {
   "cell_type": "code",
   "execution_count": 2,
   "id": "034a5548",
   "metadata": {},
   "outputs": [
    {
     "name": "stdout",
     "output_type": "stream",
     "text": [
      "送料は無料です\n",
      "送料込みの価格は3,300円です。\n"
     ]
    }
   ],
   "source": [
    "def cal_price():\n",
    "    tax_included = round(int(input(\"税抜価格を入力してください：\")) * 1.1)\n",
    "    if tax_included >= 2000 :\n",
    "        print(\"送料は無料です\")\n",
    "        print(f\"送料込みの価格は{tax_included:,}円です。\")\n",
    "    else :\n",
    "        print(\"送料として350円かかります\")\n",
    "        add_postage = tax_included + 350\n",
    "        print(f\"送料込みの価格は{add_postage:,}円です。\")\n",
    "\n",
    "cal_price()"
   ]
  },
  {
   "cell_type": "code",
   "execution_count": 4,
   "id": "41d95f1b",
   "metadata": {},
   "outputs": [
    {
     "name": "stdout",
     "output_type": "stream",
     "text": [
      "送料は無料です\n",
      "送料込みの価格は6,490円です。\n"
     ]
    }
   ],
   "source": [
    "tax_excluded = int(input(\"税抜価格を入力してください：\"))\n",
    "tax_included = round(tax_excluded * 1.1)\n",
    "\n",
    "if tax_included >= 2000:\n",
    "    print(\"送料は無料です\")\n",
    "    print(f\"送料込みの価格は{tax_included:,}円です。\")\n",
    "else :\n",
    "    print(\"送料として350円かかります\")\n",
    "    add_postage = tax_included + 350\n",
    "    print(f\"送料込みの価格は{add_postage:,}円です。\")\n",
    "\n"
   ]
  }
 ],
 "metadata": {
  "kernelspec": {
   "display_name": ".venv",
   "language": "python",
   "name": "python3"
  },
  "language_info": {
   "codemirror_mode": {
    "name": "ipython",
    "version": 3
   },
   "file_extension": ".py",
   "mimetype": "text/x-python",
   "name": "python",
   "nbconvert_exporter": "python",
   "pygments_lexer": "ipython3",
   "version": "3.12.10"
  }
 },
 "nbformat": 4,
 "nbformat_minor": 5
}
