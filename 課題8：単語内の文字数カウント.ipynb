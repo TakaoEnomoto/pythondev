{
 "cells": [
  {
   "cell_type": "code",
   "execution_count": null,
   "id": "701c7aec",
   "metadata": {},
   "outputs": [
    {
     "name": "stdout",
     "output_type": "stream",
     "text": [
      "入力した英単語：['ant', 'cat', 'dog']\n",
      "aが2個ありました\n",
      "cが1個ありました\n",
      "dが1個ありました\n",
      "gが1個ありました\n",
      "nが1個ありました\n",
      "oが1個ありました\n",
      "tが2個ありました\n"
     ]
    }
   ],
   "source": [
    "english_words_list = []\n",
    "english_words_list\n",
    "\n",
    "char_count = dict.fromkeys(list(\"abcdefghijklmnopqrstuvwxyz\"),0)\n",
    "\n",
    "\n",
    "while True:\n",
    "    word = input(\"英単語を入力してください：\")\n",
    "\n",
    "    for alphabet in char_count.keys():\n",
    "        char_count[alphabet] += word.count(alphabet)\n",
    "\n",
    "    english_words_list.append(word)\n",
    "\n",
    "    if word == \"\":\n",
    "        break\n",
    "\n",
    "english_words_list.pop()\n",
    "english_words_list.sort()\n",
    "print(f\"入力した英単語：{english_words_list}\")\n",
    "\n",
    "for alphabet, num in char_count.items():\n",
    "    if num != 0:\n",
    "        print(f\"{alphabet}が{num}個ありました\")\n",
    "    "
   ]
  }
 ],
 "metadata": {
  "kernelspec": {
   "display_name": ".venv",
   "language": "python",
   "name": "python3"
  },
  "language_info": {
   "name": "python",
   "version": "3.12.10"
  }
 },
 "nbformat": 4,
 "nbformat_minor": 5
}
